{
 "cells": [
  {
   "cell_type": "code",
   "execution_count": 1,
   "metadata": {},
   "outputs": [
    {
     "name": "stdout",
     "output_type": "stream",
     "text": [
      "{'Consumer Advice': 85, 'Personal Advice': 40, 'Citizen Advice': 20, 'Chatbot Conversation Topic': 56}\n"
     ]
    }
   ],
   "source": [
    "import json\n",
    "\n",
    "# Read the JSON file\n",
    "with open('../data/conversation-contexts.json') as file:\n",
    "    data = json.load(file)\n",
    "\n",
    "# Initialize a dictionary to store the counts\n",
    "counts = {}\n",
    "\n",
    "# Iterate over the entries\n",
    "for entry in data:\n",
    "    # Get the category keyword\n",
    "    category = entry.get('category')\n",
    "\n",
    "    # Increment the count for the category\n",
    "    counts[category] = counts.get(category, 0) + 1\n",
    "\n",
    "# Print the aggregated counts\n",
    "print(counts)"
   ]
  },
  {
   "cell_type": "code",
   "execution_count": null,
   "metadata": {},
   "outputs": [],
   "source": []
  }
 ],
 "metadata": {
  "kernelspec": {
   "display_name": "Python 3",
   "language": "python",
   "name": "python3"
  },
  "language_info": {
   "codemirror_mode": {
    "name": "ipython",
    "version": 3
   },
   "file_extension": ".py",
   "mimetype": "text/x-python",
   "name": "python",
   "nbconvert_exporter": "python",
   "pygments_lexer": "ipython3",
   "version": "3.8.10"
  }
 },
 "nbformat": 4,
 "nbformat_minor": 2
}
